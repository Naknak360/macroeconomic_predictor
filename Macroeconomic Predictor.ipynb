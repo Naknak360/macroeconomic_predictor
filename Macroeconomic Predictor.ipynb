{
 "cells": [
  {
   "cell_type": "markdown",
   "id": "ca0bc2b3",
   "metadata": {},
   "source": [
    "# Macroeconomic Predictor\n",
    "\n",
    "This notebook will explore the effects of macroecnonomic factors on the stock market. For my analysis, I intend to specifically focus on the impacts on the S&P 500 index as that broadly generalizes the economic state of the top United States companies."
   ]
  },
  {
   "cell_type": "code",
   "execution_count": null,
   "id": "02643519",
   "metadata": {},
   "outputs": [],
   "source": []
  }
 ],
 "metadata": {
  "kernelspec": {
   "display_name": "Python 3",
   "language": "python",
   "name": "python3"
  },
  "language_info": {
   "codemirror_mode": {
    "name": "ipython",
    "version": 3
   },
   "file_extension": ".py",
   "mimetype": "text/x-python",
   "name": "python",
   "nbconvert_exporter": "python",
   "pygments_lexer": "ipython3",
   "version": "3.8.8"
  }
 },
 "nbformat": 4,
 "nbformat_minor": 5
}
